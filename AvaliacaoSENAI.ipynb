{
  "nbformat": 4,
  "nbformat_minor": 0,
  "metadata": {
    "colab": {
      "provenance": [],
      "gpuType": "T4",
      "authorship_tag": "ABX9TyMEkJENIBRdkb74vzzppjG7",
      "include_colab_link": true
    },
    "kernelspec": {
      "name": "python3",
      "display_name": "Python 3"
    },
    "language_info": {
      "name": "python"
    },
    "accelerator": "GPU"
  },
  "cells": [
    {
      "cell_type": "markdown",
      "metadata": {
        "id": "view-in-github",
        "colab_type": "text"
      },
      "source": [
        "<a href=\"https://colab.research.google.com/github/hodfernando/SenaiMotores/blob/main/AvaliacaoSENAI.ipynb\" target=\"_parent\"><img src=\"https://colab.research.google.com/assets/colab-badge.svg\" alt=\"Open In Colab\"/></a>"
      ]
    },
    {
      "cell_type": "markdown",
      "source": [
        "#Acesso ao Gdrive"
      ],
      "metadata": {
        "id": "zNf_AT3L1W0N"
      }
    },
    {
      "cell_type": "code",
      "source": [
        "from google.colab import drive\n",
        "drive.mount('/content/drive')"
      ],
      "metadata": {
        "colab": {
          "base_uri": "https://localhost:8080/"
        },
        "id": "TVZhqauT42Vs",
        "outputId": "e2115073-6b1c-4948-ea9a-783f6e580ad6"
      },
      "execution_count": 2,
      "outputs": [
        {
          "output_type": "stream",
          "name": "stdout",
          "text": [
            "Mounted at /content/drive\n"
          ]
        }
      ]
    },
    {
      "cell_type": "code",
      "source": [
        "ls '/content/drive/MyDrive/Colab Notebooks/Estudo de caso SENAI/'"
      ],
      "metadata": {
        "colab": {
          "base_uri": "https://localhost:8080/"
        },
        "id": "l5Rev3XX5RJg",
        "outputId": "a1169b5c-acac-4d22-a0d4-ea37f4195703"
      },
      "execution_count": 3,
      "outputs": [
        {
          "output_type": "stream",
          "name": "stdout",
          "text": [
            "AvaliacaoSENAI.ipynb  \u001b[0m\u001b[01;34mDados_Avaliação_P1_2024_1\u001b[0m/\n"
          ]
        }
      ]
    },
    {
      "cell_type": "code",
      "source": [
        "import os\n",
        "import numpy as np"
      ],
      "metadata": {
        "id": "YIFdacQ1D8LY"
      },
      "execution_count": 4,
      "outputs": []
    },
    {
      "cell_type": "code",
      "source": [
        "if __name__ == \"__main__\":\n",
        "    if 'google.colab' in str(get_ipython()):\n",
        "        pasta_projeto = \"/content/drive/MyDrive/Colab Notebooks/Estudo de caso SENAI/\"  # Atualize conforme necessário\n",
        "        pasta_raw_data = os.path.join(pasta_projeto, 'Dados_Avaliação_P1_2024_1')"
      ],
      "metadata": {
        "id": "0yNmfsZZDQ7O"
      },
      "execution_count": 5,
      "outputs": []
    },
    {
      "cell_type": "code",
      "source": [
        "    classes_file = os.path.join(pasta_raw_data, 'Classes.npy')\n",
        "    dados_1_file = os.path.join(pasta_raw_data, 'Dados_1.npy')\n",
        "    dados_2_file = os.path.join(pasta_raw_data, 'Dados_2.npy')\n",
        "    dados_3_file = os.path.join(pasta_raw_data, 'Dados_3.npy')\n",
        "    dados_4_file = os.path.join(pasta_raw_data, 'Dados_4.npy')\n",
        "    dados_5_file = os.path.join(pasta_raw_data, 'Dados_5.npy')\n",
        "\n",
        "    # Carregando o arquivo com allow_pickle=True\n",
        "    classes = np.load(classes_file, allow_pickle=True)\n",
        "    dados_1 = np.load(dados_1_file, allow_pickle=True)\n",
        "    dados_2 = np.load(dados_2_file, allow_pickle=True)\n",
        "    dados_3 = np.load(dados_3_file, allow_pickle=True)\n",
        "    dados_4 = np.load(dados_4_file, allow_pickle=True)\n",
        "    dados_5 = np.load(dados_5_file, allow_pickle=True)"
      ],
      "metadata": {
        "id": "Q3OeS0E0El6z"
      },
      "execution_count": 6,
      "outputs": []
    },
    {
      "cell_type": "code",
      "source": [
        "    classes.shape"
      ],
      "metadata": {
        "colab": {
          "base_uri": "https://localhost:8080/"
        },
        "id": "du7CefScHORW",
        "outputId": "891fa6a9-5d20-4ed3-e6af-5bf7f4a2f31e"
      },
      "execution_count": 7,
      "outputs": [
        {
          "output_type": "execute_result",
          "data": {
            "text/plain": [
              "(50000, 1)"
            ]
          },
          "metadata": {},
          "execution_count": 7
        }
      ]
    },
    {
      "cell_type": "code",
      "source": [
        "    classes.dtype"
      ],
      "metadata": {
        "colab": {
          "base_uri": "https://localhost:8080/"
        },
        "id": "km3DpnE7HY8o",
        "outputId": "e879360e-3008-4b2d-e3bb-fe1495ba9f98"
      },
      "execution_count": 8,
      "outputs": [
        {
          "output_type": "execute_result",
          "data": {
            "text/plain": [
              "dtype('O')"
            ]
          },
          "metadata": {},
          "execution_count": 8
        }
      ]
    },
    {
      "cell_type": "code",
      "source": [
        "    dados_1.shape"
      ],
      "metadata": {
        "colab": {
          "base_uri": "https://localhost:8080/"
        },
        "id": "ADlynn8MHSEm",
        "outputId": "0d9a62a3-5d47-453f-fffb-3876eb7104cf"
      },
      "execution_count": 9,
      "outputs": [
        {
          "output_type": "execute_result",
          "data": {
            "text/plain": [
              "(50000, 201)"
            ]
          },
          "metadata": {},
          "execution_count": 9
        }
      ]
    },
    {
      "cell_type": "code",
      "source": [
        "    dados_5[3]"
      ],
      "metadata": {
        "colab": {
          "base_uri": "https://localhost:8080/"
        },
        "id": "X70n_peRHiU4",
        "outputId": "5c50e216-53c6-43a6-9d41-ab633e2ab4d6"
      },
      "execution_count": 10,
      "outputs": [
        {
          "output_type": "execute_result",
          "data": {
            "text/plain": [
              "array([ -7.09489426,  51.40803185,  76.68264969,   5.08569903,\n",
              "        22.56412671,  76.02775795,  17.43420823,   3.15828294,\n",
              "        23.28279938,  22.44466201, 100.57744529,  11.01204935,\n",
              "        62.99514438,   0.90142616,  -2.96800321,  57.16989153,\n",
              "        77.85684654,  79.13080014,  29.05694767,  41.82079928,\n",
              "        45.34397952,  73.85746897, -13.40211394,  25.40634949,\n",
              "        62.62898459,  20.7752729 ,  26.485716  ,  96.08425963,\n",
              "        22.53582703,  75.57733351,   6.44118943,  37.10147692,\n",
              "        58.90407081,  18.31764643,  35.15005549,  83.08447732,\n",
              "        97.91793079,  26.51953273,  71.03327112,  45.81823349,\n",
              "        11.95167664,  40.99780999,  33.20224923,  38.48292572,\n",
              "        25.80607994,  39.9711347 ,  91.27038824,  43.9913758 ,\n",
              "        20.61705147,  19.10939162,  13.23888847,  69.83213093,\n",
              "        -0.55156097,  21.16963894, 118.53971062,  38.17399292,\n",
              "        39.5033194 ,  23.33102463, 112.07741113, 104.11184549,\n",
              "        19.33569446,  14.20927371,  -0.31405045,  12.06045205,\n",
              "        36.2303639 ,   9.02190743, 109.12813698,  11.37749712,\n",
              "        95.51203857,  81.82581224,  55.84844372,  22.62190168,\n",
              "        37.34901176,  29.00005577,  35.77474802,  78.26735203,\n",
              "        55.89683809,  36.96076409,  41.06557205,  60.01943344,\n",
              "        49.37868784,  -3.48858595,  38.23630963,   4.74514193,\n",
              "        51.01322504,  21.46164685,  89.28809292, -13.05648583,\n",
              "        22.37957402,  84.24565562,  91.45778081,  -1.37696774,\n",
              "        35.52142333,  95.21016032,  23.83366218,  48.15846217,\n",
              "        29.18111108,  62.13170382,  37.84673928,  36.27805185,\n",
              "        80.72040515,  25.09281669,   4.58450755,  11.82173381,\n",
              "        49.40855005,  67.37444383,  -5.30636694,  48.39422406,\n",
              "        18.7440176 ,  48.96912477,  79.1570031 ,  24.50152731,\n",
              "        30.78176171, 117.60801308,   2.00409775,  49.63382888,\n",
              "        82.7456997 ,  73.02031997,  23.43912048,  56.88502762,\n",
              "        -7.13772253,  61.0631878 ,  72.51805683,  49.37888618,\n",
              "         7.68054079,  21.03365293,  87.03187521,  91.00098012,\n",
              "        57.12527346,  13.20371182,  50.03378157, 113.29316701,\n",
              "        31.36376263,  52.52692407,  11.77079505,  34.9615267 ,\n",
              "         0.31287523,  55.20034185, -14.77552395, -18.25398144,\n",
              "        15.24610129,  49.86609519,  95.55407698,  65.70120142,\n",
              "        51.65125984,  62.03502475,  29.82103771,  83.58515481,\n",
              "        22.54141078,  66.14302445,   3.43003988,  39.97807723,\n",
              "        19.15818687,  14.09845061, 111.06673909,  14.43093764,\n",
              "        45.68648628,   7.26882775, 120.07509588,  32.97994904,\n",
              "        18.10387775,  77.88505336,  44.97121345,  68.00914762,\n",
              "        87.7106331 ,  49.3808135 ,  31.94408248,  99.45284688,\n",
              "        43.6429722 ,  98.59310952,  43.71917038,  11.64422469,\n",
              "       -17.58327508,  69.1553691 ,  47.7060461 ,  28.17558726,\n",
              "        20.91613681,  -7.40230979, 126.59932947,  50.32132821,\n",
              "        59.37833534,  29.19914409,  16.39220367,  19.68513632,\n",
              "       101.71915935,  55.61340885, 104.87508873, -12.43425487,\n",
              "        18.91571254,  30.17772442,  -4.63017537,  38.25438145,\n",
              "        96.44478216, 111.45924763,  51.87577413,  30.79645325,\n",
              "        -1.93812817,  19.69145027,  43.16532769,  67.91275657])"
            ]
          },
          "metadata": {},
          "execution_count": 10
        }
      ]
    },
    {
      "cell_type": "code",
      "source": [
        "    dados_1 = dados_1[:, :-1]\n",
        "    dados_2 = dados_2[:, :-1]\n",
        "    dados_3 = dados_3[:, :-1]"
      ],
      "metadata": {
        "id": "6q3UPizuH5sr"
      },
      "execution_count": 11,
      "outputs": []
    },
    {
      "cell_type": "code",
      "source": [
        "    # Verificando os novos formatos dos arrays\n",
        "    print(\"Novo shape de dados_1:\", dados_1.shape)\n",
        "    print(\"Novo shape de dados_2:\", dados_2.shape)\n",
        "    print(\"Novo shape de dados_3:\", dados_3.shape)\n",
        "    print(\"Novo shape de dados_4:\", dados_4.shape)\n",
        "    print(\"Novo shape de dados_5:\", dados_5.shape)\n"
      ],
      "metadata": {
        "colab": {
          "base_uri": "https://localhost:8080/"
        },
        "id": "zFHHZHMgIqYw",
        "outputId": "d9f0ab08-188f-4b32-fad7-c50dca824dc3"
      },
      "execution_count": 12,
      "outputs": [
        {
          "output_type": "stream",
          "name": "stdout",
          "text": [
            "Novo shape de dados_1: (50000, 200)\n",
            "Novo shape de dados_2: (50000, 200)\n",
            "Novo shape de dados_3: (50000, 200)\n",
            "Novo shape de dados_4: (50000, 200)\n",
            "Novo shape de dados_5: (50000, 200)\n"
          ]
        }
      ]
    },
    {
      "cell_type": "code",
      "source": [
        "    classes_unicas = np.unique(classes)\n",
        "    numero_de_classes = len(classes_unicas)\n",
        "    print(\"Número de classes diferentes:\", numero_de_classes)"
      ],
      "metadata": {
        "colab": {
          "base_uri": "https://localhost:8080/"
        },
        "id": "FMbR3S9uLDmC",
        "outputId": "41440919-7d0a-4f74-d85f-6efe2bb536b4"
      },
      "execution_count": 13,
      "outputs": [
        {
          "output_type": "stream",
          "name": "stdout",
          "text": [
            "Número de classes diferentes: 5\n"
          ]
        }
      ]
    },
    {
      "cell_type": "code",
      "source": [
        "    dados_completos = np.concatenate((dados_1, dados_2, dados_3, dados_4, dados_5), axis=1)"
      ],
      "metadata": {
        "id": "P1tBLiVnTgON"
      },
      "execution_count": 14,
      "outputs": []
    },
    {
      "cell_type": "code",
      "source": [
        "    dados_completos.shape"
      ],
      "metadata": {
        "colab": {
          "base_uri": "https://localhost:8080/"
        },
        "id": "aGxJX-12Uuoz",
        "outputId": "54a9fa71-1410-4b5e-f3df-be18e103cee8"
      },
      "execution_count": 15,
      "outputs": [
        {
          "output_type": "execute_result",
          "data": {
            "text/plain": [
              "(50000, 1000)"
            ]
          },
          "metadata": {},
          "execution_count": 15
        }
      ]
    },
    {
      "cell_type": "code",
      "source": [
        "from sklearn.model_selection import train_test_split\n",
        "\n",
        "def dividir_dados(dados, classes, proporcao_teste=0.2, random_state=None):\n",
        "    # Dividir os dados em conjuntos de treinamento e teste estratificados\n",
        "    X_treino, X_teste, y_treino, y_teste = train_test_split(dados, classes,\n",
        "                                                              test_size=proporcao_teste,\n",
        "                                                              stratify=classes,\n",
        "                                                              random_state=random_state)\n",
        "\n",
        "    return X_treino, X_teste, y_treino, y_teste"
      ],
      "metadata": {
        "id": "mB7n2YVKOLAG"
      },
      "execution_count": 16,
      "outputs": []
    },
    {
      "cell_type": "code",
      "source": [
        "    X_treino, X_teste, y_treino, y_teste = dividir_dados(dados_completos, classes, proporcao_teste=0.2, random_state=42)"
      ],
      "metadata": {
        "id": "BmaeESiQPTQv"
      },
      "execution_count": 17,
      "outputs": []
    },
    {
      "cell_type": "code",
      "source": [
        "    X_treino.shape"
      ],
      "metadata": {
        "colab": {
          "base_uri": "https://localhost:8080/"
        },
        "id": "b_CFRz9YPY7z",
        "outputId": "1cfac324-a0f9-481f-be74-595ec8261572"
      },
      "execution_count": 18,
      "outputs": [
        {
          "output_type": "execute_result",
          "data": {
            "text/plain": [
              "(40000, 1000)"
            ]
          },
          "metadata": {},
          "execution_count": 18
        }
      ]
    },
    {
      "cell_type": "code",
      "source": [
        "    from sklearn.ensemble import RandomForestClassifier\n",
        "    from sklearn.impute import SimpleImputer\n",
        "    from sklearn.pipeline import Pipeline\n",
        "\n",
        "    # Definir hiperparâmetros\n",
        "    num_trees = 100\n",
        "    tree_depth = 100\n",
        "    max_features = 100\n",
        "    min_samples_leaf = 3\n",
        "    criterion='entropy'\n",
        "\n",
        "    # Criar um pipeline com imputação de valores ausentes e treinamento do modelo\n",
        "    pipeline = Pipeline([\n",
        "        ('imputer', SimpleImputer(strategy='most_frequent')),\n",
        "        ('model', RandomForestClassifier(n_estimators=num_trees,\n",
        "                                        criterion=criterion,\n",
        "                                        max_depth=tree_depth,\n",
        "                                        min_samples_leaf=min_samples_leaf,\n",
        "                                        max_features=max_features,\n",
        "                                        random_state=42))\n",
        "    ])\n",
        "\n",
        "    # Treinar o modelo\n",
        "    pipeline.fit(X_treino, y_treino)\n",
        "\n",
        "    # Avaliar o modelo\n",
        "    acuracia = pipeline.score(X_teste, y_teste)\n",
        "    print(\"Acurácia do modelo:\", acuracia)\n"
      ],
      "metadata": {
        "colab": {
          "base_uri": "https://localhost:8080/"
        },
        "id": "wnJmgBiCWbQN",
        "outputId": "54ca024a-ab05-4b4e-9587-7c649105b593"
      },
      "execution_count": 22,
      "outputs": [
        {
          "output_type": "stream",
          "name": "stderr",
          "text": [
            "/usr/local/lib/python3.10/dist-packages/sklearn/pipeline.py:405: DataConversionWarning: A column-vector y was passed when a 1d array was expected. Please change the shape of y to (n_samples,), for example using ravel().\n",
            "  self._final_estimator.fit(Xt, y, **fit_params_last_step)\n"
          ]
        },
        {
          "output_type": "stream",
          "name": "stdout",
          "text": [
            "Acurácia do modelo: 0.4709\n"
          ]
        }
      ]
    },
    {
      "cell_type": "code",
      "source": [
        "    import matplotlib.pyplot as plt\n",
        "    import seaborn as sns\n",
        "    from sklearn.metrics import confusion_matrix\n",
        "\n",
        "    # Prever os rótulos para o conjunto de teste\n",
        "    y_pred = pipeline.predict(X_teste)\n",
        "\n",
        "    # Converter os rótulos para arrays numpy unidimensionais\n",
        "    y_teste = np.array(y_teste).flatten()\n",
        "    y_pred = np.array(y_pred).flatten()\n",
        "\n",
        "    # Obter os rótulos únicos\n",
        "    labels = np.unique(np.concatenate((y_teste, y_pred)))\n",
        "\n",
        "    # Calcular a matriz de confusão\n",
        "    conf_matrix = confusion_matrix(y_teste, y_pred, labels=labels)\n",
        "\n",
        "    # Plotar a matriz de confusão usando Seaborn\n",
        "    plt.figure(figsize=(8, 6))\n",
        "    sns.heatmap(conf_matrix, annot=True, fmt=\"d\", cmap=\"Blues\", cbar=False, xticklabels=labels, yticklabels=labels)\n",
        "    plt.xlabel(\"Predicted labels\")\n",
        "    plt.ylabel(\"True labels\")\n",
        "    plt.title(\"Confusion Matrix\")\n",
        "    plt.show()\n"
      ],
      "metadata": {
        "colab": {
          "base_uri": "https://localhost:8080/",
          "height": 564
        },
        "id": "-4TtHyGNqS_L",
        "outputId": "87240b6c-33ac-4938-9f23-3454a6b0b5fb"
      },
      "execution_count": 30,
      "outputs": [
        {
          "output_type": "display_data",
          "data": {
            "text/plain": [
              "<Figure size 800x600 with 1 Axes>"
            ],
            "image/png": "[encoded data removed]"
          },
          "metadata": {}
        }
      ]
    }
  ]
}